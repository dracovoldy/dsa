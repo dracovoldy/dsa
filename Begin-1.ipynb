{
 "cells": [
  {
   "cell_type": "markdown",
   "metadata": {},
   "source": [
    "# Basics of Python"
   ]
  },
  {
   "cell_type": "code",
   "execution_count": 1,
   "metadata": {},
   "outputs": [
    {
     "data": {
      "text/plain": [
       "7.0"
      ]
     },
     "execution_count": 1,
     "metadata": {},
     "output_type": "execute_result"
    }
   ],
   "source": [
    "import math\n",
    "math.sqrt(49)"
   ]
  },
  {
   "cell_type": "markdown",
   "metadata": {},
   "source": [
    "# Problem\n",
    "We need to write a program to find position of a given number in a list of numbers arranged in decreasing order.\n",
    "We also need to minimize the number of times we access the elements from the list.\n",
    "\n",
    "## Input\n",
    "1. cards:  A list of numbers sorted in decreasing order\n",
    "1. query: A number, whose position in the array is to be determined\n",
    "\n",
    "## Output\n",
    "1. position: The position of the query in the list of cards (counting form 0)"
   ]
  },
  {
   "cell_type": "code",
   "execution_count": 2,
   "metadata": {},
   "outputs": [],
   "source": [
    "def locate_card(cards, query):\n",
    "    pass\n",
    "\n",
    "## Test cases\n",
    "## 1. \n",
    "cards = [12, 24, 8, 9 , 2, 1, 5, 4]\n",
    "query = 5\n",
    "output = 6\n",
    "\n",
    "result = locate_card(cards, query)"
   ]
  },
  {
   "cell_type": "code",
   "execution_count": 3,
   "metadata": {},
   "outputs": [
    {
     "name": "stdout",
     "output_type": "stream",
     "text": [
      "None\n"
     ]
    }
   ],
   "source": [
    "print(result)"
   ]
  },
  {
   "cell_type": "code",
   "execution_count": 4,
   "metadata": {},
   "outputs": [
    {
     "data": {
      "text/plain": [
       "False"
      ]
     },
     "execution_count": 4,
     "metadata": {},
     "output_type": "execute_result"
    }
   ],
   "source": [
    "result == output"
   ]
  },
  {
   "cell_type": "code",
   "execution_count": 5,
   "metadata": {},
   "outputs": [],
   "source": [
    "test = {\n",
    "    'input': {\n",
    "        'cards': [15, 12, 10, 7, 3, 2, 1],\n",
    "        'query': 10 \n",
    "    }, \n",
    "    'output': 2\n",
    "}"
   ]
  },
  {
   "cell_type": "markdown",
   "metadata": {},
   "source": [
    "Test the function"
   ]
  },
  {
   "cell_type": "code",
   "execution_count": 6,
   "metadata": {},
   "outputs": [
    {
     "data": {
      "text/plain": [
       "False"
      ]
     },
     "execution_count": 6,
     "metadata": {},
     "output_type": "execute_result"
    }
   ],
   "source": [
    "locate_card(**test['input']) == test['output']"
   ]
  },
  {
   "cell_type": "code",
   "execution_count": 7,
   "metadata": {},
   "outputs": [],
   "source": [
    "## Set of valid inputs\n",
    "tests = []\n",
    "## query occurs in the middle\n",
    "tests.append({\n",
    "    'input': {\n",
    "            'cards': [15, 12, 10, 7, 3, 2, 1],\n",
    "            'query': 10 \n",
    "        }, \n",
    "        'output': 2\n",
    "})"
   ]
  },
  {
   "cell_type": "code",
   "execution_count": 8,
   "metadata": {},
   "outputs": [],
   "source": [
    "## query is the first element\n",
    "tests.append({\n",
    "    'input': {\n",
    "            'cards': [10, 9, 8, 7, 3, 2, 1],\n",
    "            'query': 10 \n",
    "        }, \n",
    "        'output': 0\n",
    "})"
   ]
  },
  {
   "cell_type": "code",
   "execution_count": 9,
   "metadata": {},
   "outputs": [],
   "source": [
    "## query is the last element\n",
    "tests.append({\n",
    "    'input': {\n",
    "            'cards': [10, 9, 8, 7, -1, -2, -3],\n",
    "            'query': -3 \n",
    "        }, \n",
    "        'output': 6\n",
    "})"
   ]
  },
  {
   "cell_type": "code",
   "execution_count": 10,
   "metadata": {},
   "outputs": [],
   "source": [
    "## cards array contains only 1 element\n",
    "tests.append({\n",
    "    'input': {\n",
    "            'cards': [10],\n",
    "            'query': 10 \n",
    "        }, \n",
    "        'output': 0\n",
    "})"
   ]
  },
  {
   "cell_type": "code",
   "execution_count": 11,
   "metadata": {},
   "outputs": [],
   "source": [
    "## cards array is empty\n",
    "tests.append({\n",
    "    'input': {\n",
    "            'cards': [],\n",
    "            'query': 10 \n",
    "        }, \n",
    "        'output': -1\n",
    "})"
   ]
  },
  {
   "cell_type": "code",
   "execution_count": 12,
   "metadata": {},
   "outputs": [
    {
     "data": {
      "text/plain": [
       "[{'input': {'cards': [15, 12, 10, 7, 3, 2, 1], 'query': 10}, 'output': 2},\n",
       " {'input': {'cards': [10, 9, 8, 7, 3, 2, 1], 'query': 10}, 'output': 0},\n",
       " {'input': {'cards': [10, 9, 8, 7, -1, -2, -3], 'query': -3}, 'output': 6},\n",
       " {'input': {'cards': [10], 'query': 10}, 'output': 0},\n",
       " {'input': {'cards': [], 'query': 10}, 'output': -1}]"
      ]
     },
     "execution_count": 12,
     "metadata": {},
     "output_type": "execute_result"
    }
   ],
   "source": [
    "tests"
   ]
  },
  {
   "cell_type": "code",
   "execution_count": 13,
   "metadata": {},
   "outputs": [],
   "source": [
    "# Brute Force Algorithm\n",
    "\n",
    "def locate_card(cards, query):\n",
    "    position = 0\n",
    "\n",
    "    if len(cards) <= 0:\n",
    "        return -1\n",
    "\n",
    "    # loop\n",
    "    while True:\n",
    "\n",
    "        # check if card at position matches query\n",
    "        if cards[position] == query:\n",
    "            return position\n",
    "        \n",
    "        position = position + 1\n",
    "\n",
    "        # reached end of cards\n",
    "        if position == len(cards):\n",
    "            # number not found\n",
    "            return -1"
   ]
  },
  {
   "cell_type": "code",
   "execution_count": 14,
   "metadata": {},
   "outputs": [
    {
     "data": {
      "text/plain": [
       "{'input': {'cards': [15, 12, 10, 7, 3, 2, 1], 'query': 10}, 'output': 2}"
      ]
     },
     "execution_count": 14,
     "metadata": {},
     "output_type": "execute_result"
    }
   ],
   "source": [
    "tests[0]"
   ]
  },
  {
   "cell_type": "code",
   "execution_count": 15,
   "metadata": {},
   "outputs": [],
   "source": [
    "test_pos = 0"
   ]
  },
  {
   "cell_type": "markdown",
   "metadata": {},
   "source": [
    "## Tester function"
   ]
  },
  {
   "cell_type": "code",
   "execution_count": 16,
   "metadata": {},
   "outputs": [
    {
     "name": "stdout",
     "output_type": "stream",
     "text": [
      "TEST  1 :  {'input': {'cards': [15, 12, 10, 7, 3, 2, 1], 'query': 10}, 'output': 2}\n",
      "TEST  1 :  PASSED, result:  2\n",
      "TEST  2 :  {'input': {'cards': [10, 9, 8, 7, 3, 2, 1], 'query': 10}, 'output': 0}\n",
      "TEST  2 :  PASSED, result:  0\n",
      "TEST  3 :  {'input': {'cards': [10, 9, 8, 7, -1, -2, -3], 'query': -3}, 'output': 6}\n",
      "TEST  3 :  PASSED, result:  6\n",
      "TEST  4 :  {'input': {'cards': [10], 'query': 10}, 'output': 0}\n",
      "TEST  4 :  PASSED, result:  0\n",
      "TEST  5 :  {'input': {'cards': [], 'query': 10}, 'output': -1}\n",
      "TEST  5 :  PASSED, result:  -1\n"
     ]
    }
   ],
   "source": [
    "while test_pos < len(tests):\n",
    "\n",
    "    print('TEST ', test_pos + 1, ': ', tests[test_pos])\n",
    "    result = locate_card(tests[test_pos]['input']['cards'], tests[test_pos]['input']['query'])\n",
    "\n",
    "    if result == tests[test_pos]['output']:\n",
    "        print('TEST ', test_pos + 1, ':  PASSED, result: ', result)\n",
    "        \n",
    "    elif result == -1:\n",
    "        print('TEST ', test_pos + 1, ': FAILED, result: ', result)\n",
    "    test_pos = test_pos + 1"
   ]
  },
  {
   "cell_type": "markdown",
   "metadata": {},
   "source": [
    "### !pip install jovian --upgrade --quiet"
   ]
  },
  {
   "cell_type": "code",
   "execution_count": 1,
   "metadata": {},
   "outputs": [
    {
     "name": "stdout",
     "output_type": "stream",
     "text": [
      "Note: you may need to restart the kernel to use updated packages.\n"
     ]
    }
   ],
   "source": [
    "%pip install jovian --upgrade --quiet"
   ]
  }
 ],
 "metadata": {
  "kernelspec": {
   "display_name": "Python 3.11.0 64-bit",
   "language": "python",
   "name": "python3"
  },
  "language_info": {
   "codemirror_mode": {
    "name": "ipython",
    "version": 3
   },
   "file_extension": ".py",
   "mimetype": "text/x-python",
   "name": "python",
   "nbconvert_exporter": "python",
   "pygments_lexer": "ipython3",
   "version": "3.11.0"
  },
  "orig_nbformat": 4,
  "vscode": {
   "interpreter": {
    "hash": "aee8b7b246df8f9039afb4144a1f6fd8d2ca17a180786b69acc140d282b71a49"
   }
  }
 },
 "nbformat": 4,
 "nbformat_minor": 2
}
